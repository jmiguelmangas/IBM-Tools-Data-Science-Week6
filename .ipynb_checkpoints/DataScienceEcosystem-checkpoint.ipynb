{
 "cells": [
  {
   "cell_type": "markdown",
   "id": "0a5851f7",
   "metadata": {},
   "source": [
    "## Data Science Tools and Ecosystem"
   ]
  },
  {
   "cell_type": "markdown",
   "id": "f1f2a269",
   "metadata": {},
   "source": [
    "In this notebook, Data Science Tools and Ecosystem are summarized."
   ]
  },
  {
   "cell_type": "markdown",
   "id": "cc92d2b3",
   "metadata": {},
   "source": [
    "Some of the popular languages that Data Scientists use are:\n"
   ]
  },
  {
   "cell_type": "markdown",
   "id": "01d9f168",
   "metadata": {},
   "source": [
    "1. Python\n",
    "2. R\n",
    "3. SQL\n",
    "4. Julia\n",
    "5. Scala"
   ]
  },
  {
   "cell_type": "markdown",
   "id": "ad12f602",
   "metadata": {},
   "source": [
    "Some of the commonly used libraries used by Data Scientists include:\n",
    "\n"
   ]
  },
  {
   "cell_type": "markdown",
   "id": "bca5bda0",
   "metadata": {},
   "source": [
    "1. Pandas\n",
    "2. Numpy\n",
    "3. Matplotlib\n"
   ]
  },
  {
   "cell_type": "markdown",
   "id": "49bc027f",
   "metadata": {},
   "source": [
    "#### Data Science Tools\n"
   ]
  },
  {
   "cell_type": "markdown",
   "id": "dd92ab40",
   "metadata": {},
   "source": [
    "| Data Science Tools |\n",
    "|---|\n",
    "|Anaconda|\n",
    "|Jupyter Notebooks|\n",
    "|Apache Spark|\n",
    "|IBM SPSS|"
   ]
  },
  {
   "cell_type": "markdown",
   "id": "4f1fbecb",
   "metadata": {},
   "source": [
    "##### Below are a few examples of evaluating arithmetic expressions in Python.\n"
   ]
  },
  {
   "cell_type": "code",
   "execution_count": 3,
   "id": "c81512ea",
   "metadata": {},
   "outputs": [
    {
     "data": {
      "text/plain": [
       "17"
      ]
     },
     "execution_count": 3,
     "metadata": {},
     "output_type": "execute_result"
    }
   ],
   "source": [
    "# This a simple arithmetic expression to mutiply then add integers\n",
    "(3*4)+5"
   ]
  },
  {
   "cell_type": "code",
   "execution_count": null,
   "id": "81f3f4b1",
   "metadata": {},
   "outputs": [],
   "source": []
  }
 ],
 "metadata": {
  "kernelspec": {
   "display_name": "Python 3 (ipykernel)",
   "language": "python",
   "name": "python3"
  },
  "language_info": {
   "codemirror_mode": {
    "name": "ipython",
    "version": 3
   },
   "file_extension": ".py",
   "mimetype": "text/x-python",
   "name": "python",
   "nbconvert_exporter": "python",
   "pygments_lexer": "ipython3",
   "version": "3.11.5"
  }
 },
 "nbformat": 4,
 "nbformat_minor": 5
}
